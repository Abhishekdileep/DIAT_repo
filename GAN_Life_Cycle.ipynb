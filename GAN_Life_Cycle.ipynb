{
 "cells": [
  {
   "cell_type": "markdown",
   "id": "196f9be0-2975-4223-acb2-0ba8a34b05e3",
   "metadata": {},
   "source": [
    "### KERAS MODEL LIFE CYCLE\n",
    "- Define Network\n",
    "- Compile Network\n",
    "- Fit network\n",
    "- Evaluate Network\n",
    "- Make Predictions "
   ]
  },
  {
   "cell_type": "code",
   "execution_count": 4,
   "id": "127b572d-2e74-4c29-8a7b-cede2214a187",
   "metadata": {},
   "outputs": [],
   "source": [
    "import tensorflow as tf \n",
    "import keras.models\n",
    "from keras.models import Sequential \n",
    "from keras.layers import Activation , Dense \n"
   ]
  },
  {
   "cell_type": "code",
   "execution_count": 6,
   "id": "ab072373-5bc9-4029-bd52-530ec7de996a",
   "metadata": {},
   "outputs": [],
   "source": [
    "#defination of Model \n",
    "Model = Sequential()\n",
    "Model.add(Dense(5 , input_dim = 2 ))\n",
    "Model.add(Dense(1))\n",
    "Model.add(Activation('sigmoid'))"
   ]
  },
  {
   "cell_type": "code",
   "execution_count": 11,
   "id": "1cfede79-c091-49a8-ba0f-639c1c40cf95",
   "metadata": {},
   "outputs": [
    {
     "name": "stdout",
     "output_type": "stream",
     "text": [
      "Model: \"sequential_1\"\n",
      "_________________________________________________________________\n",
      " Layer (type)                Output Shape              Param #   \n",
      "=================================================================\n",
      " dense_1 (Dense)             (None, 5)                 15        \n",
      "                                                                 \n",
      " dense_2 (Dense)             (None, 1)                 6         \n",
      "                                                                 \n",
      " activation (Activation)     (None, 1)                 0         \n",
      "                                                                 \n",
      "=================================================================\n",
      "Total params: 21 (84.00 Byte)\n",
      "Trainable params: 21 (84.00 Byte)\n",
      "Non-trainable params: 0 (0.00 Byte)\n",
      "_________________________________________________________________\n"
     ]
    }
   ],
   "source": [
    "#Compiling the model \n",
    "Model.compile(optimizer='sgd' , loss='mean_squared_error' , metrics=['accuracy'])\n",
    "Model.summary()"
   ]
  },
  {
   "cell_type": "code",
   "execution_count": null,
   "id": "a91e0271-a270-4743-a640-511583c08fa1",
   "metadata": {},
   "outputs": [],
   "source": []
  }
 ],
 "metadata": {
  "kernelspec": {
   "display_name": "DIAT_repo",
   "language": "python",
   "name": "diat_repo"
  },
  "language_info": {
   "codemirror_mode": {
    "name": "ipython",
    "version": 3
   },
   "file_extension": ".py",
   "mimetype": "text/x-python",
   "name": "python",
   "nbconvert_exporter": "python",
   "pygments_lexer": "ipython3",
   "version": "3.11.5"
  }
 },
 "nbformat": 4,
 "nbformat_minor": 5
}
